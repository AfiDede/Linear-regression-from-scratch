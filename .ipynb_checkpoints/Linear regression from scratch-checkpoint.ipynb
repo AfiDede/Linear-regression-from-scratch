{
 "cells": [
  {
   "cell_type": "code",
   "execution_count": 1,
   "id": "9fb9957e",
   "metadata": {},
   "outputs": [],
   "source": [
    "import numpy as np\n",
    "import pandas as pd \n",
    "import matplotlib.pyplot as plt\n",
    "from ipywidgets import interactive, fixed"
   ]
  },
  {
   "cell_type": "code",
   "execution_count": 2,
   "id": "c269737b",
   "metadata": {},
   "outputs": [
    {
     "data": {
      "text/html": [
       "<div>\n",
       "<style scoped>\n",
       "    .dataframe tbody tr th:only-of-type {\n",
       "        vertical-align: middle;\n",
       "    }\n",
       "\n",
       "    .dataframe tbody tr th {\n",
       "        vertical-align: top;\n",
       "    }\n",
       "\n",
       "    .dataframe thead th {\n",
       "        text-align: right;\n",
       "    }\n",
       "</style>\n",
       "<table border=\"1\" class=\"dataframe\">\n",
       "  <thead>\n",
       "    <tr style=\"text-align: right;\">\n",
       "      <th></th>\n",
       "      <th>studytime</th>\n",
       "      <th>score</th>\n",
       "    </tr>\n",
       "  </thead>\n",
       "  <tbody>\n",
       "    <tr>\n",
       "      <th>0</th>\n",
       "      <td>34.842345</td>\n",
       "      <td>34.137006</td>\n",
       "    </tr>\n",
       "    <tr>\n",
       "      <th>1</th>\n",
       "      <td>55.766804</td>\n",
       "      <td>71.207596</td>\n",
       "    </tr>\n",
       "    <tr>\n",
       "      <th>2</th>\n",
       "      <td>63.870358</td>\n",
       "      <td>64.992382</td>\n",
       "    </tr>\n",
       "    <tr>\n",
       "      <th>3</th>\n",
       "      <td>49.815640</td>\n",
       "      <td>73.976632</td>\n",
       "    </tr>\n",
       "    <tr>\n",
       "      <th>4</th>\n",
       "      <td>62.153208</td>\n",
       "      <td>89.660925</td>\n",
       "    </tr>\n",
       "    <tr>\n",
       "      <th>...</th>\n",
       "      <td>...</td>\n",
       "      <td>...</td>\n",
       "    </tr>\n",
       "    <tr>\n",
       "      <th>95</th>\n",
       "      <td>52.370174</td>\n",
       "      <td>83.966991</td>\n",
       "    </tr>\n",
       "    <tr>\n",
       "      <th>96</th>\n",
       "      <td>51.579765</td>\n",
       "      <td>74.541832</td>\n",
       "    </tr>\n",
       "    <tr>\n",
       "      <th>97</th>\n",
       "      <td>52.379576</td>\n",
       "      <td>87.662007</td>\n",
       "    </tr>\n",
       "    <tr>\n",
       "      <th>98</th>\n",
       "      <td>50.489859</td>\n",
       "      <td>68.654958</td>\n",
       "    </tr>\n",
       "    <tr>\n",
       "      <th>99</th>\n",
       "      <td>27.468485</td>\n",
       "      <td>55.884394</td>\n",
       "    </tr>\n",
       "  </tbody>\n",
       "</table>\n",
       "<p>100 rows × 2 columns</p>\n",
       "</div>"
      ],
      "text/plain": [
       "    studytime      score\n",
       "0   34.842345  34.137006\n",
       "1   55.766804  71.207596\n",
       "2   63.870358  64.992382\n",
       "3   49.815640  73.976632\n",
       "4   62.153208  89.660925\n",
       "..        ...        ...\n",
       "95  52.370174  83.966991\n",
       "96  51.579765  74.541832\n",
       "97  52.379576  87.662007\n",
       "98  50.489859  68.654958\n",
       "99  27.468485  55.884394\n",
       "\n",
       "[100 rows x 2 columns]"
      ]
     },
     "execution_count": 2,
     "metadata": {},
     "output_type": "execute_result"
    }
   ],
   "source": [
    "df = pd.read_csv('/Users/afismacbook/Desktop/PROJECTS/DS/DATASETS/studydata.csv')\n",
    "df"
   ]
  },
  {
   "cell_type": "code",
   "execution_count": 3,
   "id": "6538d4dd",
   "metadata": {},
   "outputs": [],
   "source": [
    "for i in range(len(df)):\n",
    "    x = df.iloc[i,0]\n",
    "    y = df.iloc[i,1]\n",
    "    n = len(df)\n"
   ]
  },
  {
   "cell_type": "code",
   "execution_count": 4,
   "id": "1fc8379a",
   "metadata": {},
   "outputs": [],
   "source": [
    "def loss_function(m,b, df):\n",
    "    total_error = 0\n",
    "    total_error += (y-(m*x + b))** 2\n",
    "    return total_error/n\n",
    "    "
   ]
  },
  {
   "cell_type": "code",
   "execution_count": 5,
   "id": "1b7d7b58",
   "metadata": {},
   "outputs": [],
   "source": [
    "def gradient_descent(m_now, b_now, df, L):\n",
    "        m_gradient = 0\n",
    "        b_gradient = 0\n",
    "        m_gradient += -(2/n)*x*(y-(m_now*x + b_now))\n",
    "        b_gradient += -(2/n)*(y-(m_now*x + b_now))\n",
    "        m = m_now - (L*m_gradient)\n",
    "        b = b_now - (L*b_gradient)\n",
    "        return[m, b]\n",
    "        "
   ]
  },
  {
   "cell_type": "code",
   "execution_count": 6,
   "id": "ff4852e7",
   "metadata": {},
   "outputs": [
    {
     "name": "stdout",
     "output_type": "stream",
     "text": [
      "1.5839304846351718 0.057663555336867615\n"
     ]
    }
   ],
   "source": [
    "m = 0\n",
    "b = 0\n",
    "L = 0.0001\n",
    "epochs = 1000\n",
    "\n",
    "for i in range(epochs):\n",
    "    m, b = gradient_descent(m, b, df, L)\n",
    "    \n",
    "print(m, b)"
   ]
  },
  {
   "cell_type": "code",
   "execution_count": 7,
   "id": "153f52c2",
   "metadata": {},
   "outputs": [
    {
     "data": {
      "image/png": "[encoded data removed]",
      "text/plain": [
       "<Figure size 432x288 with 1 Axes>"
      ]
     },
     "metadata": {
      "needs_background": "light"
     },
     "output_type": "display_data"
    }
   ],
   "source": [
    "def plot_regression_line(m, b, df):\n",
    "    plt.scatter(df.iloc[:, 0], df.iloc[:, 1], label='Data')\n",
    "    plt.plot(df.iloc[:, 0], m * df.iloc[:, 0] + b, color='red', label='Regression Line')\n",
    "    plt.xlabel('X')\n",
    "    plt.ylabel('Y')\n",
    "    plt.legend()\n",
    "    plt.show()\n",
    "    \n",
    "plot_regression_line(m, b, df)"
   ]
  },
  {
   "cell_type": "code",
   "execution_count": 8,
   "id": "c0fe67ac",
   "metadata": {},
   "outputs": [
    {
     "data": {
      "application/vnd.jupyter.widget-view+json": {
       "model_id": "cfeb3857936645338344c823fef1f96e",
       "version_major": 2,
       "version_minor": 0
      },
      "text/plain": [
       "interactive(children=(FloatSlider(value=0.0, description='m', max=2.0, min=-2.0), FloatSlider(value=0.0, descr…"
      ]
     },
     "execution_count": 8,
     "metadata": {},
     "output_type": "execute_result"
    }
   ],
   "source": [
    "interactive_plot = interactive(plot_regression_line, m=(-2.0, 2.0), b=(-10.0, 10.0), df=fixed(df))\n",
    "output = interactive_plot.children[-1]\n",
    "output.layout.height = '400px'\n",
    "interactive_plot"
   ]
  }
 ],
 "metadata": {
  "kernelspec": {
   "display_name": "Python 3 (ipykernel)",
   "language": "python",
   "name": "python3"
  },
  "language_info": {
   "codemirror_mode": {
    "name": "ipython",
    "version": 3
   },
   "file_extension": ".py",
   "mimetype": "text/x-python",
   "name": "python",
   "nbconvert_exporter": "python",
   "pygments_lexer": "ipython3",
   "version": "3.9.12"
  }
 },
 "nbformat": 4,
 "nbformat_minor": 5
}
